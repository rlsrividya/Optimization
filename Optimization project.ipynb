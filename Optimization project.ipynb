{
 "cells": [
  {
   "cell_type": "code",
   "execution_count": 1,
   "id": "ebca81bf",
   "metadata": {},
   "outputs": [],
   "source": [
    "import numpy as np\n",
    "import gurobipy as gp\n",
    "import pandas as pd"
   ]
  },
  {
   "cell_type": "code",
   "execution_count": null,
   "id": "3bd13743",
   "metadata": {},
   "outputs": [],
   "source": []
  },
  {
   "cell_type": "code",
   "execution_count": 2,
   "id": "2ce2bf1f",
   "metadata": {},
   "outputs": [],
   "source": [
    "obj = pd.read_csv('ROI_data.csv') #Read file into a dataframe"
   ]
  },
  {
   "cell_type": "code",
   "execution_count": 3,
   "id": "6d5e854b",
   "metadata": {},
   "outputs": [],
   "source": [
    "obj = obj.set_index(obj.columns[0]) #Set the first column as index for easier access"
   ]
  },
  {
   "cell_type": "code",
   "execution_count": 4,
   "id": "ec18dbc3",
   "metadata": {},
   "outputs": [
    {
     "data": {
      "text/html": [
       "<div>\n",
       "<style scoped>\n",
       "    .dataframe tbody tr th:only-of-type {\n",
       "        vertical-align: middle;\n",
       "    }\n",
       "\n",
       "    .dataframe tbody tr th {\n",
       "        vertical-align: top;\n",
       "    }\n",
       "\n",
       "    .dataframe thead th {\n",
       "        text-align: right;\n",
       "    }\n",
       "</style>\n",
       "<table border=\"1\" class=\"dataframe\">\n",
       "  <thead>\n",
       "    <tr style=\"text-align: right;\">\n",
       "      <th></th>\n",
       "      <th>Print</th>\n",
       "      <th>TV</th>\n",
       "      <th>SEO</th>\n",
       "      <th>AdWords</th>\n",
       "      <th>Facebook</th>\n",
       "      <th>LinkedIn</th>\n",
       "      <th>Instagram</th>\n",
       "      <th>Snapchat</th>\n",
       "      <th>Twitter</th>\n",
       "      <th>Email</th>\n",
       "    </tr>\n",
       "    <tr>\n",
       "      <th>Platform</th>\n",
       "      <th></th>\n",
       "      <th></th>\n",
       "      <th></th>\n",
       "      <th></th>\n",
       "      <th></th>\n",
       "      <th></th>\n",
       "      <th></th>\n",
       "      <th></th>\n",
       "      <th></th>\n",
       "      <th></th>\n",
       "    </tr>\n",
       "  </thead>\n",
       "  <tbody>\n",
       "    <tr>\n",
       "      <th>ROI</th>\n",
       "      <td>0.031</td>\n",
       "      <td>0.049</td>\n",
       "      <td>0.024</td>\n",
       "      <td>0.039</td>\n",
       "      <td>0.016</td>\n",
       "      <td>0.024</td>\n",
       "      <td>0.046</td>\n",
       "      <td>0.026</td>\n",
       "      <td>0.033</td>\n",
       "      <td>0.044</td>\n",
       "    </tr>\n",
       "    <tr>\n",
       "      <th>Second Firms ROI Estimate</th>\n",
       "      <td>0.049</td>\n",
       "      <td>0.023</td>\n",
       "      <td>0.024</td>\n",
       "      <td>0.039</td>\n",
       "      <td>0.044</td>\n",
       "      <td>0.046</td>\n",
       "      <td>0.026</td>\n",
       "      <td>0.019</td>\n",
       "      <td>0.037</td>\n",
       "      <td>0.026</td>\n",
       "    </tr>\n",
       "  </tbody>\n",
       "</table>\n",
       "</div>"
      ],
      "text/plain": [
       "                           Print     TV    SEO  AdWords  Facebook  LinkedIn  \\\n",
       "Platform                                                                      \n",
       "ROI                        0.031  0.049  0.024    0.039     0.016     0.024   \n",
       "Second Firms ROI Estimate  0.049  0.023  0.024    0.039     0.044     0.046   \n",
       "\n",
       "                           Instagram  Snapchat  Twitter  Email  \n",
       "Platform                                                        \n",
       "ROI                            0.046     0.026    0.033  0.044  \n",
       "Second Firms ROI Estimate      0.026     0.019    0.037  0.026  "
      ]
     },
     "execution_count": 4,
     "metadata": {},
     "output_type": "execute_result"
    }
   ],
   "source": [
    "obj"
   ]
  },
  {
   "cell_type": "markdown",
   "id": "4ae1363f",
   "metadata": {},
   "source": [
    "Let the Decision Variables be the amount invested in each medium, i.e. \\\n",
    "$x_{i}$ = Amount invested in each medium \n",
    "\n",
    "The constraints are as follows (in no particular order):\n",
    "\n",
    "1. Print and TV should be less than amount spent on Facebook and Email. Therefore, the equation would be\\\n",
    "    $x_{1}$ + $x_{2}$ - $x_{5}$ - $x_{10}$ $\\le$ 0\n",
    "    \n",
    "2. Amount in social media >= 2 * (Amount spent in SEO and Adwords)\\\n",
    "    $x_{5}$ + $x_{6}$ + $x_{7}$ + $x_{8}$ + $x_{9}$ - $x_{3}$ -$x_{4}$ $\\ge$ 0\n",
    " \n",
    "3. Total Budget is 10 Million USD\\\n",
    "    $x_{1}$ + $x_{2}$ + $x_{3}$ + $x_{4}$ + $x_{5}$ + $x_{6}$ + $x_{7}$ + $x_{8}$ + $x_{9}$ + $x_{10}$ $\\le$ 10\n",
    "    \n",
    "4. Each individual investment cannot be more than 3 Million USD. We will use this constraint in upper bounds while modelling the problem\\\n",
    "    0  $\\le$ $x_{1}$  $\\le$ 3\\\n",
    "    0  $\\le$ $x_{2}$  $\\le$ 3\\\n",
    "    0  $\\le$ $x_{3}$  $\\le$ 3\\\n",
    "    0  $\\le$ $x_{4}$  $\\le$ 3\\\n",
    "    0  $\\le$ $x_{5}$  $\\le$ 3\\\n",
    "    0  $\\le$ $x_{6}$  $\\le$ 3\\\n",
    "    0  $\\le$ $x_{7}$  $\\le$ 3\\\n",
    "    0  $\\le$ $x_{8}$  $\\le$ 3\\\n",
    "    0  $\\le$ $x_{9}$  $\\le$ 3\\\n",
    "    0  $\\le$ $x_{10}$  $\\le$ 3\n",
    "    \n",
    "  \n"
   ]
  },
  {
   "cell_type": "code",
   "execution_count": 5,
   "id": "3efc5283",
   "metadata": {},
   "outputs": [],
   "source": [
    "A = np.zeros((3,10))\n",
    "A[0,:]=[1,1,0,0,-1,0,0,0,0,-1] #First constraint Print+TV < Facebook + Email\n",
    "A[1,:]=[0,0,-2,-2,1,1,1,1,1,0] # Social Media > 2(SEO + Adwords)\n",
    "A[2,:]=[1,1,1,1,1,1,1,1,1,1] # Total Budget constraint"
   ]
  },
  {
   "cell_type": "code",
   "execution_count": 6,
   "id": "02579412",
   "metadata": {},
   "outputs": [],
   "source": [
    "b = np.array([0,0,10]) # Right Hand Side Limits of constraints\n",
    "sense = np.array(['<','>','<']) "
   ]
  },
  {
   "cell_type": "markdown",
   "id": "3d129fed",
   "metadata": {},
   "source": [
    "We need to maximize the ROI for the model. Given the ROI matrix for the problem:\n",
    "\n",
    "The Objective Function is as follows:\\\n",
    "&emsp; 0.031 $x_{1}$ + 0.049 $x_{2}$ + 0.024 $x_{3}$ + 0.039 $x_{4}$ + 0.016 $x_{5}$ + 0.024 $x_{6}$ + 0.046 $x_{7}$ + 0.026 $x_{8}$ + 0.033 $x_{9}$ + 0.044 $x_{10}$"
   ]
  },
  {
   "cell_type": "code",
   "execution_count": 7,
   "id": "36e5a97f",
   "metadata": {},
   "outputs": [
    {
     "name": "stdout",
     "output_type": "stream",
     "text": [
      "Set parameter Username\n",
      "Academic license - for non-commercial use only - expires 2023-08-19\n"
     ]
    }
   ],
   "source": [
    "pModel = gp.Model() # initialize an empty model\n",
    "\n",
    "pModX = pModel.addMVar(10,ub=np.array([3,3,3,3,3,3,3,3,3,3])) #Decision Variables add the upper bounds as 3million USD for each investment\n",
    "pModCon = pModel.addMConstrs(A, pModX, sense, b) # add the constraints to the model\n",
    "pModel.setMObjective(None,obj.iloc[0],0,sense=gp.GRB.MAXIMIZE) # Maximize the ROI for the model \n",
    "\n",
    "pModel.Params.OutputFlag = 0 # tell gurobi to shut up!!\n",
    "pModel.Params.TimeLimit = 3600"
   ]
  },
  {
   "cell_type": "code",
   "execution_count": 8,
   "id": "ac41d3eb",
   "metadata": {},
   "outputs": [],
   "source": [
    "pModel.optimize() \n"
   ]
  },
  {
   "cell_type": "markdown",
   "id": "2c43cd95",
   "metadata": {},
   "source": [
    "The ROI achieved (max) given the constraints, is 0.456 Million ~ 456000 USD "
   ]
  },
  {
   "cell_type": "code",
   "execution_count": 9,
   "id": "f658ff66",
   "metadata": {},
   "outputs": [
    {
     "data": {
      "text/plain": [
       "0.45600000000000007"
      ]
     },
     "execution_count": 9,
     "metadata": {},
     "output_type": "execute_result"
    }
   ],
   "source": [
    "pModel.objVal #The Objective Function"
   ]
  },
  {
   "cell_type": "markdown",
   "id": "8ef3a197",
   "metadata": {},
   "source": [
    "The Optimal Investments are given by: "
   ]
  },
  {
   "cell_type": "code",
   "execution_count": 10,
   "id": "3e8f08f5",
   "metadata": {},
   "outputs": [
    {
     "data": {
      "text/plain": [
       "[0.0, 3.0, 0.0, 1.0, 0.0, 0.0, 3.0, 0.0, 0.0, 3.0]"
      ]
     },
     "execution_count": 10,
     "metadata": {},
     "output_type": "execute_result"
    }
   ],
   "source": [
    "pModel.x # The optimal solution"
   ]
  },
  {
   "cell_type": "code",
   "execution_count": null,
   "id": "a967de49",
   "metadata": {},
   "outputs": [],
   "source": []
  },
  {
   "cell_type": "code",
   "execution_count": 11,
   "id": "194f3df1",
   "metadata": {},
   "outputs": [
    {
     "data": {
      "text/html": [
       "<div>\n",
       "<style scoped>\n",
       "    .dataframe tbody tr th:only-of-type {\n",
       "        vertical-align: middle;\n",
       "    }\n",
       "\n",
       "    .dataframe tbody tr th {\n",
       "        vertical-align: top;\n",
       "    }\n",
       "\n",
       "    .dataframe thead th {\n",
       "        text-align: right;\n",
       "    }\n",
       "</style>\n",
       "<table border=\"1\" class=\"dataframe\">\n",
       "  <thead>\n",
       "    <tr style=\"text-align: right;\">\n",
       "      <th></th>\n",
       "      <th>Investment(Million $)</th>\n",
       "    </tr>\n",
       "  </thead>\n",
       "  <tbody>\n",
       "    <tr>\n",
       "      <th>Print</th>\n",
       "      <td>0.0</td>\n",
       "    </tr>\n",
       "    <tr>\n",
       "      <th>TV</th>\n",
       "      <td>3.0</td>\n",
       "    </tr>\n",
       "    <tr>\n",
       "      <th>SEO</th>\n",
       "      <td>0.0</td>\n",
       "    </tr>\n",
       "    <tr>\n",
       "      <th>AdWords</th>\n",
       "      <td>1.0</td>\n",
       "    </tr>\n",
       "    <tr>\n",
       "      <th>Facebook</th>\n",
       "      <td>0.0</td>\n",
       "    </tr>\n",
       "    <tr>\n",
       "      <th>LinkedIn</th>\n",
       "      <td>0.0</td>\n",
       "    </tr>\n",
       "    <tr>\n",
       "      <th>Instagram</th>\n",
       "      <td>3.0</td>\n",
       "    </tr>\n",
       "    <tr>\n",
       "      <th>Snapchat</th>\n",
       "      <td>0.0</td>\n",
       "    </tr>\n",
       "    <tr>\n",
       "      <th>Twitter</th>\n",
       "      <td>0.0</td>\n",
       "    </tr>\n",
       "    <tr>\n",
       "      <th>Email</th>\n",
       "      <td>3.0</td>\n",
       "    </tr>\n",
       "  </tbody>\n",
       "</table>\n",
       "</div>"
      ],
      "text/plain": [
       "           Investment(Million $)\n",
       "Print                        0.0\n",
       "TV                           3.0\n",
       "SEO                          0.0\n",
       "AdWords                      1.0\n",
       "Facebook                     0.0\n",
       "LinkedIn                     0.0\n",
       "Instagram                    3.0\n",
       "Snapchat                     0.0\n",
       "Twitter                      0.0\n",
       "Email                        3.0"
      ]
     },
     "execution_count": 11,
     "metadata": {},
     "output_type": "execute_result"
    }
   ],
   "source": [
    "x_df= pd.DataFrame(pModel.x, index=obj.columns, columns={'Investment(Million $)'})\n",
    "x_df #Better View of investments across mediums"
   ]
  },
  {
   "cell_type": "code",
   "execution_count": 12,
   "id": "44d237e5",
   "metadata": {},
   "outputs": [],
   "source": [
    "import matplotlib.pyplot as plt"
   ]
  },
  {
   "cell_type": "code",
   "execution_count": 13,
   "id": "3950b0ca",
   "metadata": {},
   "outputs": [
    {
     "data": {
      "text/plain": [
       "<AxesSubplot:>"
      ]
     },
     "execution_count": 13,
     "metadata": {},
     "output_type": "execute_result"
    },
    {
     "data": {
      "image/png": "[encoded data removed]",
      "text/plain": [
       "<Figure size 432x288 with 1 Axes>"
      ]
     },
     "metadata": {
      "needs_background": "light"
     },
     "output_type": "display_data"
    }
   ],
   "source": [
    "x_df.plot(kind='bar', color='Orange')"
   ]
  },
  {
   "cell_type": "code",
   "execution_count": null,
   "id": "68da38a0",
   "metadata": {},
   "outputs": [],
   "source": []
  },
  {
   "cell_type": "markdown",
   "id": "0f1ef20b",
   "metadata": {},
   "source": [
    "### Q4"
   ]
  },
  {
   "cell_type": "markdown",
   "id": "d9a082a4",
   "metadata": {},
   "source": [
    "Your boss is happy to see the promising results presented by the marketing department.\n",
    "However, your boss is also very concerned because your boss recalls being somewhat\n",
    "disappointed after following such recommendations in the past. To be cautious about the\n",
    "decision, your team has decided to get another opinion about the ROI data and rerun the\n",
    "analysis. The second consulting firm returns the estimates of the ROI data in the table below\n",
    "(also in the CSV file mentioned above). You are asked to compare the two optimal allocations\n",
    "from these two ROI estimates."
   ]
  },
  {
   "cell_type": "markdown",
   "id": "dd164f03",
   "metadata": {},
   "source": [
    "We use the second row of the ROI matrix from the obj variable"
   ]
  },
  {
   "cell_type": "code",
   "execution_count": 14,
   "id": "986ac48a",
   "metadata": {},
   "outputs": [],
   "source": [
    "pModel2 = gp.Model() # initialize an empty model\n",
    "\n",
    "pModX2 = pModel2.addMVar(10,ub=np.array([3,3,3,3,3,3,3,3,3,3])) # Same as Question 1 \n",
    "pModCon2 = pModel2.addMConstrs(A, pModX2, sense, b) # add the constraints to the model\n",
    "pModel2.setMObjective(None,obj.iloc[1],0,sense=gp.GRB.MAXIMIZE) \n",
    "pModel2.Params.OutputFlag = 0 \n",
    "pModel2.Params.TimeLimit = 3600"
   ]
  },
  {
   "cell_type": "code",
   "execution_count": 15,
   "id": "b9191db6",
   "metadata": {},
   "outputs": [],
   "source": [
    "pModel2.optimize()"
   ]
  },
  {
   "cell_type": "markdown",
   "id": "e8731d54",
   "metadata": {},
   "source": [
    "We observe that the Objective function or the ROI observed in both cases is the same 456000 USD"
   ]
  },
  {
   "cell_type": "code",
   "execution_count": 16,
   "id": "e183be9a",
   "metadata": {},
   "outputs": [
    {
     "data": {
      "text/plain": [
       "0.45600000000000007"
      ]
     },
     "execution_count": 16,
     "metadata": {},
     "output_type": "execute_result"
    }
   ],
   "source": [
    "pModel2.objVal "
   ]
  },
  {
   "cell_type": "code",
   "execution_count": 17,
   "id": "f61c9851",
   "metadata": {},
   "outputs": [
    {
     "data": {
      "text/plain": [
       "[3.0, 0.0, 0.0, 1.0, 3.0, 3.0, 0.0, 0.0, 0.0, 0.0]"
      ]
     },
     "execution_count": 17,
     "metadata": {},
     "output_type": "execute_result"
    }
   ],
   "source": [
    "pModel2.x"
   ]
  },
  {
   "cell_type": "markdown",
   "id": "054fb98d",
   "metadata": {},
   "source": [
    "However, the investments are different compared to the case 1. \n",
    "Intuitively it makes sense as investments go to the channels with higher ROI"
   ]
  },
  {
   "cell_type": "code",
   "execution_count": 19,
   "id": "d477e71a",
   "metadata": {},
   "outputs": [
    {
     "data": {
      "text/html": [
       "<div>\n",
       "<style scoped>\n",
       "    .dataframe tbody tr th:only-of-type {\n",
       "        vertical-align: middle;\n",
       "    }\n",
       "\n",
       "    .dataframe tbody tr th {\n",
       "        vertical-align: top;\n",
       "    }\n",
       "\n",
       "    .dataframe thead th {\n",
       "        text-align: right;\n",
       "    }\n",
       "</style>\n",
       "<table border=\"1\" class=\"dataframe\">\n",
       "  <thead>\n",
       "    <tr style=\"text-align: right;\">\n",
       "      <th></th>\n",
       "      <th>Investment(Million $)</th>\n",
       "    </tr>\n",
       "  </thead>\n",
       "  <tbody>\n",
       "    <tr>\n",
       "      <th>Print</th>\n",
       "      <td>3.0</td>\n",
       "    </tr>\n",
       "    <tr>\n",
       "      <th>TV</th>\n",
       "      <td>0.0</td>\n",
       "    </tr>\n",
       "    <tr>\n",
       "      <th>SEO</th>\n",
       "      <td>0.0</td>\n",
       "    </tr>\n",
       "    <tr>\n",
       "      <th>AdWords</th>\n",
       "      <td>1.0</td>\n",
       "    </tr>\n",
       "    <tr>\n",
       "      <th>Facebook</th>\n",
       "      <td>3.0</td>\n",
       "    </tr>\n",
       "    <tr>\n",
       "      <th>LinkedIn</th>\n",
       "      <td>3.0</td>\n",
       "    </tr>\n",
       "    <tr>\n",
       "      <th>Instagram</th>\n",
       "      <td>0.0</td>\n",
       "    </tr>\n",
       "    <tr>\n",
       "      <th>Snapchat</th>\n",
       "      <td>0.0</td>\n",
       "    </tr>\n",
       "    <tr>\n",
       "      <th>Twitter</th>\n",
       "      <td>0.0</td>\n",
       "    </tr>\n",
       "    <tr>\n",
       "      <th>Email</th>\n",
       "      <td>0.0</td>\n",
       "    </tr>\n",
       "  </tbody>\n",
       "</table>\n",
       "</div>"
      ],
      "text/plain": [
       "           Investment(Million $)\n",
       "Print                        3.0\n",
       "TV                           0.0\n",
       "SEO                          0.0\n",
       "AdWords                      1.0\n",
       "Facebook                     3.0\n",
       "LinkedIn                     3.0\n",
       "Instagram                    0.0\n",
       "Snapchat                     0.0\n",
       "Twitter                      0.0\n",
       "Email                        0.0"
      ]
     },
     "execution_count": 19,
     "metadata": {},
     "output_type": "execute_result"
    }
   ],
   "source": [
    "x_df2= pd.DataFrame(pModel2.x, index=obj.columns, columns={'Investment(Million $)'})\n",
    "x_df2 #Better View of investments across mediums"
   ]
  },
  {
   "cell_type": "code",
   "execution_count": 20,
   "id": "0c7be753",
   "metadata": {},
   "outputs": [
    {
     "data": {
      "text/plain": [
       "<AxesSubplot:>"
      ]
     },
     "execution_count": 20,
     "metadata": {},
     "output_type": "execute_result"
    },
    {
     "data": {
      "image/png": "[encoded data removed]",
      "text/plain": [
       "<Figure size 432x288 with 1 Axes>"
      ]
     },
     "metadata": {
      "needs_background": "light"
     },
     "output_type": "display_data"
    }
   ],
   "source": [
    "x_df2.plot(kind='bar', color='Orange')"
   ]
  },
  {
   "cell_type": "markdown",
   "id": "ed73c83f",
   "metadata": {},
   "source": [
    "## Q5"
   ]
  },
  {
   "cell_type": "markdown",
   "id": "0a00f93b",
   "metadata": {},
   "source": [
    "Are the allocations the same? Assuming the first ROI data is correct, if you were to use the\n",
    "second allocation (the allocation that assumed the second ROI data was correct) how much\n",
    "lower would the objective be relative to the optimal objective (the one that uses the first ROI\n",
    "data and the first allocation)? Assuming the second ROI data is correct, if you used the first\n",
    "allocation how much lower would the objective be relative to the optimal objective? Do you\n",
    "think the third constraint above, based on your boss’ experience, is useful?"
   ]
  },
  {
   "cell_type": "markdown",
   "id": "f2147406",
   "metadata": {},
   "source": [
    "The Allocations are different as the ROI estimates are different for channels. For eg, the Print ROI was increased from 3.1 percent to 4.9 percent and hence we see 3 million allocated to Print in the second case unlike the first case. "
   ]
  },
  {
   "cell_type": "markdown",
   "id": "95673ff4",
   "metadata": {},
   "source": [
    "To check whether the third constraint, i.e. the individual investment less than 3 Million USD, we will test both cases with no upper bounds to check how the investments vary\n",
    "i) First Case ROI estimates with no upper bound"
   ]
  },
  {
   "cell_type": "code",
   "execution_count": 21,
   "id": "df76a0d3",
   "metadata": {},
   "outputs": [],
   "source": [
    "pModel3 = gp.Model() # initialize an empty model\n",
    "\n",
    "pModX3 = pModel3.addMVar(10) # tell the model how many variables there are\n",
    "pModCon3 = pModel3.addMConstrs(A, pModX3, sense, b) # add the constraints to the model\n",
    "pModel3.setMObjective(None,obj.iloc[0],0,sense=gp.GRB.MAXIMIZE) \n",
    "\n",
    "pModel3.Params.OutputFlag = 0 \n",
    "pModel3.Params.TimeLimit = 3600"
   ]
  },
  {
   "cell_type": "code",
   "execution_count": 22,
   "id": "e95fdba3",
   "metadata": {},
   "outputs": [],
   "source": [
    "pModel3.optimize()"
   ]
  },
  {
   "cell_type": "markdown",
   "id": "f1e8504b",
   "metadata": {},
   "source": [
    "The ROI has increased to ~ 465000 USD "
   ]
  },
  {
   "cell_type": "code",
   "execution_count": 23,
   "id": "e60479ca",
   "metadata": {},
   "outputs": [
    {
     "data": {
      "text/plain": [
       "0.46499999999999997"
      ]
     },
     "execution_count": 23,
     "metadata": {},
     "output_type": "execute_result"
    }
   ],
   "source": [
    "pModel3.objVal #The Objective Function"
   ]
  },
  {
   "cell_type": "code",
   "execution_count": 24,
   "id": "fd04ccbf",
   "metadata": {},
   "outputs": [
    {
     "data": {
      "text/plain": [
       "[0.0, 5.0, 0.0, 0.0, 0.0, 0.0, 0.0, 0.0, 0.0, 5.0]"
      ]
     },
     "execution_count": 24,
     "metadata": {},
     "output_type": "execute_result"
    }
   ],
   "source": [
    "pModel3.x"
   ]
  },
  {
   "cell_type": "markdown",
   "id": "a32cc4dd",
   "metadata": {},
   "source": [
    "The investments have changed. We observe investments only in TV and Email"
   ]
  },
  {
   "cell_type": "code",
   "execution_count": 25,
   "id": "e0e1cbe9",
   "metadata": {},
   "outputs": [
    {
     "data": {
      "text/html": [
       "<div>\n",
       "<style scoped>\n",
       "    .dataframe tbody tr th:only-of-type {\n",
       "        vertical-align: middle;\n",
       "    }\n",
       "\n",
       "    .dataframe tbody tr th {\n",
       "        vertical-align: top;\n",
       "    }\n",
       "\n",
       "    .dataframe thead th {\n",
       "        text-align: right;\n",
       "    }\n",
       "</style>\n",
       "<table border=\"1\" class=\"dataframe\">\n",
       "  <thead>\n",
       "    <tr style=\"text-align: right;\">\n",
       "      <th></th>\n",
       "      <th>Investment(Million $)</th>\n",
       "    </tr>\n",
       "  </thead>\n",
       "  <tbody>\n",
       "    <tr>\n",
       "      <th>Print</th>\n",
       "      <td>0.0</td>\n",
       "    </tr>\n",
       "    <tr>\n",
       "      <th>TV</th>\n",
       "      <td>5.0</td>\n",
       "    </tr>\n",
       "    <tr>\n",
       "      <th>SEO</th>\n",
       "      <td>0.0</td>\n",
       "    </tr>\n",
       "    <tr>\n",
       "      <th>AdWords</th>\n",
       "      <td>0.0</td>\n",
       "    </tr>\n",
       "    <tr>\n",
       "      <th>Facebook</th>\n",
       "      <td>0.0</td>\n",
       "    </tr>\n",
       "    <tr>\n",
       "      <th>LinkedIn</th>\n",
       "      <td>0.0</td>\n",
       "    </tr>\n",
       "    <tr>\n",
       "      <th>Instagram</th>\n",
       "      <td>0.0</td>\n",
       "    </tr>\n",
       "    <tr>\n",
       "      <th>Snapchat</th>\n",
       "      <td>0.0</td>\n",
       "    </tr>\n",
       "    <tr>\n",
       "      <th>Twitter</th>\n",
       "      <td>0.0</td>\n",
       "    </tr>\n",
       "    <tr>\n",
       "      <th>Email</th>\n",
       "      <td>5.0</td>\n",
       "    </tr>\n",
       "  </tbody>\n",
       "</table>\n",
       "</div>"
      ],
      "text/plain": [
       "           Investment(Million $)\n",
       "Print                        0.0\n",
       "TV                           5.0\n",
       "SEO                          0.0\n",
       "AdWords                      0.0\n",
       "Facebook                     0.0\n",
       "LinkedIn                     0.0\n",
       "Instagram                    0.0\n",
       "Snapchat                     0.0\n",
       "Twitter                      0.0\n",
       "Email                        5.0"
      ]
     },
     "execution_count": 25,
     "metadata": {},
     "output_type": "execute_result"
    }
   ],
   "source": [
    "x_df3= pd.DataFrame(pModel3.x, index=obj.columns, columns={'Investment(Million $)'})\n",
    "x_df3 #Better View of investments across mediums"
   ]
  },
  {
   "cell_type": "markdown",
   "id": "478148c2",
   "metadata": {},
   "source": [
    "ii) Second Case ROI Estimates with No upper Bound constraint (3 Million for individual investment)"
   ]
  },
  {
   "cell_type": "code",
   "execution_count": 26,
   "id": "5ebabb27",
   "metadata": {},
   "outputs": [],
   "source": [
    "pModel4 = gp.Model() # initialize an empty model\n",
    "\n",
    "pModX4 = pModel4.addMVar(10) # tell the model how many variables there are\n",
    "pModCon4 = pModel4.addMConstrs(A, pModX4, sense, b) # add the constraints to the model\n",
    "pModel4.setMObjective(None,obj.iloc[1],0,sense=gp.GRB.MAXIMIZE) # add the objective to the model\n",
    "\n",
    "pModel4.Params.OutputFlag = 0 \n",
    "pModel4.Params.TimeLimit = 3600"
   ]
  },
  {
   "cell_type": "code",
   "execution_count": 27,
   "id": "79fd093c",
   "metadata": {},
   "outputs": [],
   "source": [
    "pModel4.optimize()"
   ]
  },
  {
   "cell_type": "code",
   "execution_count": 28,
   "id": "e03992fd",
   "metadata": {},
   "outputs": [
    {
     "data": {
      "text/plain": [
       "0.46499999999999997"
      ]
     },
     "execution_count": 28,
     "metadata": {},
     "output_type": "execute_result"
    }
   ],
   "source": [
    "pModel4.objVal"
   ]
  },
  {
   "cell_type": "code",
   "execution_count": 29,
   "id": "8c164521",
   "metadata": {},
   "outputs": [
    {
     "data": {
      "text/plain": [
       "[5.0, 0.0, 0.0, 0.0, 5.0, 0.0, 0.0, 0.0, 0.0, 0.0]"
      ]
     },
     "execution_count": 29,
     "metadata": {},
     "output_type": "execute_result"
    }
   ],
   "source": [
    "pModel4.x"
   ]
  },
  {
   "cell_type": "markdown",
   "id": "968f1ee1",
   "metadata": {},
   "source": [
    "We observe investments only in Print and Facebook"
   ]
  },
  {
   "cell_type": "code",
   "execution_count": 30,
   "id": "34f3b3d3",
   "metadata": {},
   "outputs": [
    {
     "data": {
      "text/html": [
       "<div>\n",
       "<style scoped>\n",
       "    .dataframe tbody tr th:only-of-type {\n",
       "        vertical-align: middle;\n",
       "    }\n",
       "\n",
       "    .dataframe tbody tr th {\n",
       "        vertical-align: top;\n",
       "    }\n",
       "\n",
       "    .dataframe thead th {\n",
       "        text-align: right;\n",
       "    }\n",
       "</style>\n",
       "<table border=\"1\" class=\"dataframe\">\n",
       "  <thead>\n",
       "    <tr style=\"text-align: right;\">\n",
       "      <th></th>\n",
       "      <th>Investment(Million $)</th>\n",
       "    </tr>\n",
       "  </thead>\n",
       "  <tbody>\n",
       "    <tr>\n",
       "      <th>Print</th>\n",
       "      <td>5.0</td>\n",
       "    </tr>\n",
       "    <tr>\n",
       "      <th>TV</th>\n",
       "      <td>0.0</td>\n",
       "    </tr>\n",
       "    <tr>\n",
       "      <th>SEO</th>\n",
       "      <td>0.0</td>\n",
       "    </tr>\n",
       "    <tr>\n",
       "      <th>AdWords</th>\n",
       "      <td>0.0</td>\n",
       "    </tr>\n",
       "    <tr>\n",
       "      <th>Facebook</th>\n",
       "      <td>5.0</td>\n",
       "    </tr>\n",
       "    <tr>\n",
       "      <th>LinkedIn</th>\n",
       "      <td>0.0</td>\n",
       "    </tr>\n",
       "    <tr>\n",
       "      <th>Instagram</th>\n",
       "      <td>0.0</td>\n",
       "    </tr>\n",
       "    <tr>\n",
       "      <th>Snapchat</th>\n",
       "      <td>0.0</td>\n",
       "    </tr>\n",
       "    <tr>\n",
       "      <th>Twitter</th>\n",
       "      <td>0.0</td>\n",
       "    </tr>\n",
       "    <tr>\n",
       "      <th>Email</th>\n",
       "      <td>0.0</td>\n",
       "    </tr>\n",
       "  </tbody>\n",
       "</table>\n",
       "</div>"
      ],
      "text/plain": [
       "           Investment(Million $)\n",
       "Print                        5.0\n",
       "TV                           0.0\n",
       "SEO                          0.0\n",
       "AdWords                      0.0\n",
       "Facebook                     5.0\n",
       "LinkedIn                     0.0\n",
       "Instagram                    0.0\n",
       "Snapchat                     0.0\n",
       "Twitter                      0.0\n",
       "Email                        0.0"
      ]
     },
     "execution_count": 30,
     "metadata": {},
     "output_type": "execute_result"
    }
   ],
   "source": [
    "x_df4= pd.DataFrame(pModel4.x, index=obj.columns, columns={'Investment(Million $)'})\n",
    "x_df4 #Better View of investments across mediums"
   ]
  },
  {
   "cell_type": "markdown",
   "id": "c104b62f",
   "metadata": {},
   "source": [
    "We see that though the objective/ROI has increased. The problem solves such that unfair amounts of funds get allocated to either TV and Email (first ROI estimates) or  Print and Facebook (based on second ROI estimates). This could lead to lack of presence/marketing on other channels so keeping the upper bound on the individual investments would lead to a fair distribution among the mediums. "
   ]
  },
  {
   "cell_type": "markdown",
   "id": "a9eec719",
   "metadata": {},
   "source": [
    "## Q6"
   ]
  },
  {
   "cell_type": "markdown",
   "id": "568f0b6d",
   "metadata": {},
   "source": [
    "\n",
    "To explore this further perform some analysis of how your optimal allocation would change\n",
    "based on changes in the ROI data. Use the first ROI data as your starting point. By how much\n",
    "could each advertising medium’s ROI increase or decrease and still result in the same optimal\n",
    "allocation you found in step (3)?"
   ]
  },
  {
   "cell_type": "markdown",
   "id": "f8db22a9",
   "metadata": {},
   "source": [
    "We perform Sensitivity Analysis to see how much the ROI (Objective function) can change for the optimal solution(investment in each channel) to be the same "
   ]
  },
  {
   "cell_type": "code",
   "execution_count": 31,
   "id": "046ba48b",
   "metadata": {},
   "outputs": [
    {
     "data": {
      "text/plain": [
       "array([ -inf, 0.039,  -inf, 0.033,  -inf,  -inf, 0.039,  -inf,  -inf,\n",
       "       0.029])"
      ]
     },
     "execution_count": 31,
     "metadata": {},
     "output_type": "execute_result"
    }
   ],
   "source": [
    "pModX.SAObjLow #Lower threshold Sensitivity Analysis"
   ]
  },
  {
   "cell_type": "code",
   "execution_count": 32,
   "id": "62270b98",
   "metadata": {},
   "outputs": [
    {
     "data": {
      "text/plain": [
       "array([0.049, 0.062, 0.039, 0.046, 0.029, 0.039,   inf, 0.039, 0.039,\n",
       "         inf])"
      ]
     },
     "execution_count": 32,
     "metadata": {},
     "output_type": "execute_result"
    }
   ],
   "source": [
    "pModX.SAObjUp #Upper threshold of individual ROI estimates"
   ]
  },
  {
   "cell_type": "markdown",
   "id": "9f7c4e2c",
   "metadata": {},
   "source": [
    "The advertising medium's ROI can be decreased by the below amount for each channel"
   ]
  },
  {
   "cell_type": "code",
   "execution_count": 33,
   "id": "8a2f6443",
   "metadata": {},
   "outputs": [
    {
     "data": {
      "text/plain": [
       "Print          inf\n",
       "TV           0.010\n",
       "SEO            inf\n",
       "AdWords      0.006\n",
       "Facebook       inf\n",
       "LinkedIn       inf\n",
       "Instagram    0.007\n",
       "Snapchat       inf\n",
       "Twitter        inf\n",
       "Email        0.015\n",
       "Name: ROI, dtype: float64"
      ]
     },
     "execution_count": 33,
     "metadata": {},
     "output_type": "execute_result"
    }
   ],
   "source": [
    "obj.iloc[0]-pModX.SAObjLow  #Calculate the difference"
   ]
  },
  {
   "cell_type": "markdown",
   "id": "92ee9d42",
   "metadata": {},
   "source": [
    "The advertising medium's ROI can be increased by the below amount for each channel"
   ]
  },
  {
   "cell_type": "code",
   "execution_count": 34,
   "id": "18f29e6d",
   "metadata": {},
   "outputs": [
    {
     "data": {
      "text/plain": [
       "Print        0.018\n",
       "TV           0.013\n",
       "SEO          0.015\n",
       "AdWords      0.007\n",
       "Facebook     0.013\n",
       "LinkedIn     0.015\n",
       "Instagram      inf\n",
       "Snapchat     0.013\n",
       "Twitter      0.006\n",
       "Email          inf\n",
       "Name: ROI, dtype: float64"
      ]
     },
     "execution_count": 34,
     "metadata": {},
     "output_type": "execute_result"
    }
   ],
   "source": [
    "pModX.SAObjUp-obj.iloc[0] #Calculate the difference between upper threshold and the given ROI estimates"
   ]
  },
  {
   "cell_type": "markdown",
   "id": "a0375539",
   "metadata": {},
   "source": [
    "## Q7"
   ]
  },
  {
   "cell_type": "markdown",
   "id": "8264d292",
   "metadata": {},
   "source": [
    "Your boss has gained permission to reinvest half of the return. For example, if the marketing\n",
    "obtains a 4% return in January, the budget of February will be $10 M + $10 M × 4% × 50% =\n",
    "$10.2M. The monthly ROI for next year is given in Project1.Rdata. The three constraints given\n",
    "by your boss are still in place for each month. What is the optimal allocation for each month?"
   ]
  },
  {
   "cell_type": "markdown",
   "id": "7eb3c549",
   "metadata": {},
   "source": [
    "We need to iterate the modelling over each month as our budget constraint changes every month. We first read the estimates for the entire year"
   ]
  },
  {
   "cell_type": "code",
   "execution_count": 35,
   "id": "9f2428bd",
   "metadata": {},
   "outputs": [],
   "source": [
    "obj7 = pd.read_csv('ROI_mat.csv') #Read CSV file"
   ]
  },
  {
   "cell_type": "code",
   "execution_count": null,
   "id": "283fa7bd",
   "metadata": {},
   "outputs": [],
   "source": []
  },
  {
   "cell_type": "code",
   "execution_count": 36,
   "id": "f1493681",
   "metadata": {},
   "outputs": [],
   "source": [
    "obj7.rename( columns={'Unnamed: 0':'Month'}, inplace=True )"
   ]
  },
  {
   "cell_type": "code",
   "execution_count": 37,
   "id": "c34deac7",
   "metadata": {},
   "outputs": [],
   "source": [
    "obj7 = obj7.set_index('Month') #Set Index as Month"
   ]
  },
  {
   "cell_type": "code",
   "execution_count": 38,
   "id": "4b12dc9c",
   "metadata": {},
   "outputs": [],
   "source": [
    "obj7=obj7/100 # They are in percentages and dividing for the correct Objective function "
   ]
  },
  {
   "cell_type": "markdown",
   "id": "0cb999d1",
   "metadata": {},
   "source": [
    "Below is the Objective Function Matrix\n",
    "\n",
    "For Eg, for January the objective function to be maximized would be :\\\n",
    " &emsp; 0.040 $x_{1}$ + 0.036 $x_{2}$ + 0.024 $x_{3}$ + 0.039 $x_{4}$ + 0.030 $x_{5}$ + 0.035 $x_{6}$ + 0.036 $x_{7}$ + 0.0225 $x_{8}$ + 0.035 $x_{9}$ + 0.035 $x_{10}$   \n"
   ]
  },
  {
   "cell_type": "code",
   "execution_count": 39,
   "id": "860eb4db",
   "metadata": {},
   "outputs": [
    {
     "data": {
      "text/html": [
       "<div>\n",
       "<style scoped>\n",
       "    .dataframe tbody tr th:only-of-type {\n",
       "        vertical-align: middle;\n",
       "    }\n",
       "\n",
       "    .dataframe tbody tr th {\n",
       "        vertical-align: top;\n",
       "    }\n",
       "\n",
       "    .dataframe thead th {\n",
       "        text-align: right;\n",
       "    }\n",
       "</style>\n",
       "<table border=\"1\" class=\"dataframe\">\n",
       "  <thead>\n",
       "    <tr style=\"text-align: right;\">\n",
       "      <th></th>\n",
       "      <th>Print</th>\n",
       "      <th>TV</th>\n",
       "      <th>SEO</th>\n",
       "      <th>AdWords</th>\n",
       "      <th>Facebook</th>\n",
       "      <th>LinkedIn</th>\n",
       "      <th>Instagram</th>\n",
       "      <th>Snapchat</th>\n",
       "      <th>Twitter</th>\n",
       "      <th>Email</th>\n",
       "    </tr>\n",
       "    <tr>\n",
       "      <th>Month</th>\n",
       "      <th></th>\n",
       "      <th></th>\n",
       "      <th></th>\n",
       "      <th></th>\n",
       "      <th></th>\n",
       "      <th></th>\n",
       "      <th></th>\n",
       "      <th></th>\n",
       "      <th></th>\n",
       "      <th></th>\n",
       "    </tr>\n",
       "  </thead>\n",
       "  <tbody>\n",
       "    <tr>\n",
       "      <th>January</th>\n",
       "      <td>0.040</td>\n",
       "      <td>0.036</td>\n",
       "      <td>0.024</td>\n",
       "      <td>0.039</td>\n",
       "      <td>0.030</td>\n",
       "      <td>0.035</td>\n",
       "      <td>0.036</td>\n",
       "      <td>0.0225</td>\n",
       "      <td>0.035</td>\n",
       "      <td>0.035</td>\n",
       "    </tr>\n",
       "    <tr>\n",
       "      <th>February</th>\n",
       "      <td>0.040</td>\n",
       "      <td>0.039</td>\n",
       "      <td>0.027</td>\n",
       "      <td>0.038</td>\n",
       "      <td>0.043</td>\n",
       "      <td>0.032</td>\n",
       "      <td>0.027</td>\n",
       "      <td>0.0180</td>\n",
       "      <td>0.037</td>\n",
       "      <td>0.035</td>\n",
       "    </tr>\n",
       "    <tr>\n",
       "      <th>March</th>\n",
       "      <td>0.035</td>\n",
       "      <td>0.029</td>\n",
       "      <td>0.031</td>\n",
       "      <td>0.038</td>\n",
       "      <td>0.024</td>\n",
       "      <td>0.041</td>\n",
       "      <td>0.037</td>\n",
       "      <td>0.0260</td>\n",
       "      <td>0.042</td>\n",
       "      <td>0.025</td>\n",
       "    </tr>\n",
       "    <tr>\n",
       "      <th>April</th>\n",
       "      <td>0.038</td>\n",
       "      <td>0.031</td>\n",
       "      <td>0.024</td>\n",
       "      <td>0.044</td>\n",
       "      <td>0.024</td>\n",
       "      <td>0.038</td>\n",
       "      <td>0.037</td>\n",
       "      <td>0.0250</td>\n",
       "      <td>0.036</td>\n",
       "      <td>0.029</td>\n",
       "    </tr>\n",
       "    <tr>\n",
       "      <th>May</th>\n",
       "      <td>0.035</td>\n",
       "      <td>0.032</td>\n",
       "      <td>0.019</td>\n",
       "      <td>0.034</td>\n",
       "      <td>0.027</td>\n",
       "      <td>0.027</td>\n",
       "      <td>0.039</td>\n",
       "      <td>0.0220</td>\n",
       "      <td>0.045</td>\n",
       "      <td>0.039</td>\n",
       "    </tr>\n",
       "    <tr>\n",
       "      <th>June</th>\n",
       "      <td>0.040</td>\n",
       "      <td>0.032</td>\n",
       "      <td>0.027</td>\n",
       "      <td>0.034</td>\n",
       "      <td>0.034</td>\n",
       "      <td>0.030</td>\n",
       "      <td>0.045</td>\n",
       "      <td>0.0210</td>\n",
       "      <td>0.038</td>\n",
       "      <td>0.041</td>\n",
       "    </tr>\n",
       "    <tr>\n",
       "      <th>July</th>\n",
       "      <td>0.039</td>\n",
       "      <td>0.036</td>\n",
       "      <td>0.020</td>\n",
       "      <td>0.044</td>\n",
       "      <td>0.039</td>\n",
       "      <td>0.037</td>\n",
       "      <td>0.043</td>\n",
       "      <td>0.0180</td>\n",
       "      <td>0.040</td>\n",
       "      <td>0.038</td>\n",
       "    </tr>\n",
       "    <tr>\n",
       "      <th>August</th>\n",
       "      <td>0.042</td>\n",
       "      <td>0.033</td>\n",
       "      <td>0.028</td>\n",
       "      <td>0.042</td>\n",
       "      <td>0.020</td>\n",
       "      <td>0.037</td>\n",
       "      <td>0.036</td>\n",
       "      <td>0.0150</td>\n",
       "      <td>0.044</td>\n",
       "      <td>0.043</td>\n",
       "    </tr>\n",
       "    <tr>\n",
       "      <th>September</th>\n",
       "      <td>0.041</td>\n",
       "      <td>0.028</td>\n",
       "      <td>0.025</td>\n",
       "      <td>0.042</td>\n",
       "      <td>0.029</td>\n",
       "      <td>0.037</td>\n",
       "      <td>0.028</td>\n",
       "      <td>0.0250</td>\n",
       "      <td>0.040</td>\n",
       "      <td>0.034</td>\n",
       "    </tr>\n",
       "    <tr>\n",
       "      <th>October</th>\n",
       "      <td>0.030</td>\n",
       "      <td>0.030</td>\n",
       "      <td>0.031</td>\n",
       "      <td>0.046</td>\n",
       "      <td>0.031</td>\n",
       "      <td>0.033</td>\n",
       "      <td>0.032</td>\n",
       "      <td>0.0230</td>\n",
       "      <td>0.025</td>\n",
       "      <td>0.032</td>\n",
       "    </tr>\n",
       "    <tr>\n",
       "      <th>November</th>\n",
       "      <td>0.048</td>\n",
       "      <td>0.033</td>\n",
       "      <td>0.027</td>\n",
       "      <td>0.041</td>\n",
       "      <td>0.029</td>\n",
       "      <td>0.036</td>\n",
       "      <td>0.042</td>\n",
       "      <td>0.0300</td>\n",
       "      <td>0.031</td>\n",
       "      <td>0.041</td>\n",
       "    </tr>\n",
       "    <tr>\n",
       "      <th>December</th>\n",
       "      <td>0.048</td>\n",
       "      <td>0.040</td>\n",
       "      <td>0.019</td>\n",
       "      <td>0.037</td>\n",
       "      <td>0.042</td>\n",
       "      <td>0.036</td>\n",
       "      <td>0.026</td>\n",
       "      <td>0.0290</td>\n",
       "      <td>0.036</td>\n",
       "      <td>0.037</td>\n",
       "    </tr>\n",
       "  </tbody>\n",
       "</table>\n",
       "</div>"
      ],
      "text/plain": [
       "           Print     TV    SEO  AdWords  Facebook  LinkedIn  Instagram  \\\n",
       "Month                                                                    \n",
       "January    0.040  0.036  0.024    0.039     0.030     0.035      0.036   \n",
       "February   0.040  0.039  0.027    0.038     0.043     0.032      0.027   \n",
       "March      0.035  0.029  0.031    0.038     0.024     0.041      0.037   \n",
       "April      0.038  0.031  0.024    0.044     0.024     0.038      0.037   \n",
       "May        0.035  0.032  0.019    0.034     0.027     0.027      0.039   \n",
       "June       0.040  0.032  0.027    0.034     0.034     0.030      0.045   \n",
       "July       0.039  0.036  0.020    0.044     0.039     0.037      0.043   \n",
       "August     0.042  0.033  0.028    0.042     0.020     0.037      0.036   \n",
       "September  0.041  0.028  0.025    0.042     0.029     0.037      0.028   \n",
       "October    0.030  0.030  0.031    0.046     0.031     0.033      0.032   \n",
       "November   0.048  0.033  0.027    0.041     0.029     0.036      0.042   \n",
       "December   0.048  0.040  0.019    0.037     0.042     0.036      0.026   \n",
       "\n",
       "           Snapchat  Twitter  Email  \n",
       "Month                                \n",
       "January      0.0225    0.035  0.035  \n",
       "February     0.0180    0.037  0.035  \n",
       "March        0.0260    0.042  0.025  \n",
       "April        0.0250    0.036  0.029  \n",
       "May          0.0220    0.045  0.039  \n",
       "June         0.0210    0.038  0.041  \n",
       "July         0.0180    0.040  0.038  \n",
       "August       0.0150    0.044  0.043  \n",
       "September    0.0250    0.040  0.034  \n",
       "October      0.0230    0.025  0.032  \n",
       "November     0.0300    0.031  0.041  \n",
       "December     0.0290    0.036  0.037  "
      ]
     },
     "execution_count": 39,
     "metadata": {},
     "output_type": "execute_result"
    }
   ],
   "source": [
    "obj7\n",
    "    "
   ]
  },
  {
   "cell_type": "markdown",
   "id": "dfa7c598",
   "metadata": {},
   "source": [
    "The Decision Variables now would be the form of\\\n",
    "&emsp; $x_{i,j}$  where i stands for the month and \n",
    "                  j stands for the Marketing medium\\\n",
    "Hence we will have 12 months * 10 marketing mediums = 120 decision variables. \n",
    "\n",
    "We would iterate one model over the 12 months with the same constraints except for the budget constraint (as the RHS for budget would change every month) "
   ]
  },
  {
   "cell_type": "code",
   "execution_count": 40,
   "id": "5f8896ea",
   "metadata": {},
   "outputs": [],
   "source": [
    "budget =  10 #Initial budget is 10M USD\n",
    "i=0 \n",
    "X = np.zeros((12,10)) # We have 10 decision variables for every month \n",
    "ROI_total=np.zeros((12,1))\n",
    "budget_array=np.zeros((12,1))\n",
    "budget_array[0,:]=10 #First Month budget is 10 Million\n",
    "for index, row in obj7.iterrows():\n",
    "    b = np.array([0,0,budget])\n",
    "    p7Model = gp.Model() # initialize an empty model\n",
    "    \n",
    "    p7ModX = p7Model.addMVar(10,ub=np.array([3,3,3,3,3,3,3,3,3,3])) # Upper bound stays the same for every month\n",
    "    p7ModCon = p7Model.addMConstrs(A, p7ModX, sense, b) # add the constraints to the model\n",
    "    p7Model.setMObjective(None,obj7.iloc[i],0,sense=gp.GRB.MAXIMIZE) \n",
    "    p7Model.Params.OutputFlag = 0 \n",
    "    p7Model.Params.TimeLimit = 3600\n",
    "    p7Model.optimize()\n",
    "    X[i,:]=p7Model.x #Store the Optimal solution in an array\n",
    "    ROI_total[i,:]=p7Model.objVal #Store the Objective Function/ROI in array\n",
    "    budget=budget + (budget*ROI_total[i,0]*0.05) #Half the budget * ROI percent of the previous month + Budget\n",
    "    i=i+1\n",
    "    if i<12:\n",
    "        budget_array[i,:]=budget\n",
    "        \n",
    "    "
   ]
  },
  {
   "cell_type": "code",
   "execution_count": 41,
   "id": "d28aa6df",
   "metadata": {},
   "outputs": [],
   "source": [
    "X_d=pd.DataFrame(X, index=obj7.index, columns=obj7.columns) # COnvert array to Dataframe"
   ]
  },
  {
   "cell_type": "markdown",
   "id": "7d93e7d7",
   "metadata": {},
   "source": [
    "The optimal allocation for the entire year as follows (in Million $)"
   ]
  },
  {
   "cell_type": "code",
   "execution_count": 42,
   "id": "8f00d6d7",
   "metadata": {},
   "outputs": [],
   "source": [
    "ROI_total_d=pd.DataFrame(ROI_total, index=obj7.index) #ROI Dataframe\n",
    "budget_d=pd.DataFrame(budget_array, index=obj7.index) #Budget Dataframe\n",
    "ROI_total_d.rename( columns={0:'ROI (Million $)'}, inplace=True )\n",
    "budget_d.rename( columns={0:'Budget(Million $)'}, inplace=True )"
   ]
  },
  {
   "cell_type": "markdown",
   "id": "ca74c7ff",
   "metadata": {},
   "source": [
    "The total ROI (optimal) observed in all the months (in $)"
   ]
  },
  {
   "cell_type": "code",
   "execution_count": 43,
   "id": "4c2e2856",
   "metadata": {},
   "outputs": [
    {
     "data": {
      "text/html": [
       "<div>\n",
       "<style scoped>\n",
       "    .dataframe tbody tr th:only-of-type {\n",
       "        vertical-align: middle;\n",
       "    }\n",
       "\n",
       "    .dataframe tbody tr th {\n",
       "        vertical-align: top;\n",
       "    }\n",
       "\n",
       "    .dataframe thead th {\n",
       "        text-align: right;\n",
       "    }\n",
       "</style>\n",
       "<table border=\"1\" class=\"dataframe\">\n",
       "  <thead>\n",
       "    <tr style=\"text-align: right;\">\n",
       "      <th></th>\n",
       "      <th>ROI (Million $)</th>\n",
       "    </tr>\n",
       "    <tr>\n",
       "      <th>Month</th>\n",
       "      <th></th>\n",
       "    </tr>\n",
       "  </thead>\n",
       "  <tbody>\n",
       "    <tr>\n",
       "      <th>January</th>\n",
       "      <td>373000.000000</td>\n",
       "    </tr>\n",
       "    <tr>\n",
       "      <th>February</th>\n",
       "      <td>406296.000000</td>\n",
       "    </tr>\n",
       "    <tr>\n",
       "      <th>March</th>\n",
       "      <td>414557.158277</td>\n",
       "    </tr>\n",
       "    <tr>\n",
       "      <th>April</th>\n",
       "      <td>414919.334024</td>\n",
       "    </tr>\n",
       "    <tr>\n",
       "      <th>May</th>\n",
       "      <td>433013.658149</td>\n",
       "    </tr>\n",
       "    <tr>\n",
       "      <th>June</th>\n",
       "      <td>456409.810909</td>\n",
       "    </tr>\n",
       "    <tr>\n",
       "      <th>July</th>\n",
       "      <td>471319.657683</td>\n",
       "    </tr>\n",
       "    <tr>\n",
       "      <th>August</th>\n",
       "      <td>491858.936283</td>\n",
       "    </tr>\n",
       "    <tr>\n",
       "      <th>September</th>\n",
       "      <td>464527.798012</td>\n",
       "    </tr>\n",
       "    <tr>\n",
       "      <th>October</th>\n",
       "      <td>433434.394723</td>\n",
       "    </tr>\n",
       "    <tr>\n",
       "      <th>November</th>\n",
       "      <td>526300.413150</td>\n",
       "    </tr>\n",
       "    <tr>\n",
       "      <th>December</th>\n",
       "      <td>528108.983031</td>\n",
       "    </tr>\n",
       "  </tbody>\n",
       "</table>\n",
       "</div>"
      ],
      "text/plain": [
       "           ROI (Million $)\n",
       "Month                     \n",
       "January      373000.000000\n",
       "February     406296.000000\n",
       "March        414557.158277\n",
       "April        414919.334024\n",
       "May          433013.658149\n",
       "June         456409.810909\n",
       "July         471319.657683\n",
       "August       491858.936283\n",
       "September    464527.798012\n",
       "October      433434.394723\n",
       "November     526300.413150\n",
       "December     528108.983031"
      ]
     },
     "execution_count": 43,
     "metadata": {},
     "output_type": "execute_result"
    }
   ],
   "source": [
    "ROI_total_d*1000000"
   ]
  },
  {
   "cell_type": "markdown",
   "id": "cd00f4b4",
   "metadata": {},
   "source": [
    "Allocation matrix with Monthly Budget and Monthly ROI (In Million $)"
   ]
  },
  {
   "cell_type": "code",
   "execution_count": 44,
   "id": "0ab3d1ae",
   "metadata": {},
   "outputs": [
    {
     "data": {
      "text/html": [
       "<div>\n",
       "<style scoped>\n",
       "    .dataframe tbody tr th:only-of-type {\n",
       "        vertical-align: middle;\n",
       "    }\n",
       "\n",
       "    .dataframe tbody tr th {\n",
       "        vertical-align: top;\n",
       "    }\n",
       "\n",
       "    .dataframe thead th {\n",
       "        text-align: right;\n",
       "    }\n",
       "</style>\n",
       "<table border=\"1\" class=\"dataframe\">\n",
       "  <thead>\n",
       "    <tr style=\"text-align: right;\">\n",
       "      <th></th>\n",
       "      <th>Print</th>\n",
       "      <th>TV</th>\n",
       "      <th>SEO</th>\n",
       "      <th>AdWords</th>\n",
       "      <th>Facebook</th>\n",
       "      <th>LinkedIn</th>\n",
       "      <th>Instagram</th>\n",
       "      <th>Snapchat</th>\n",
       "      <th>Twitter</th>\n",
       "      <th>Email</th>\n",
       "      <th>ROI (Million $)</th>\n",
       "      <th>Budget(Million $)</th>\n",
       "    </tr>\n",
       "    <tr>\n",
       "      <th>Month</th>\n",
       "      <th></th>\n",
       "      <th></th>\n",
       "      <th></th>\n",
       "      <th></th>\n",
       "      <th></th>\n",
       "      <th></th>\n",
       "      <th></th>\n",
       "      <th></th>\n",
       "      <th></th>\n",
       "      <th></th>\n",
       "      <th></th>\n",
       "      <th></th>\n",
       "    </tr>\n",
       "  </thead>\n",
       "  <tbody>\n",
       "    <tr>\n",
       "      <th>January</th>\n",
       "      <td>3.000000</td>\n",
       "      <td>0.0</td>\n",
       "      <td>0.0</td>\n",
       "      <td>1.333333</td>\n",
       "      <td>0.000000</td>\n",
       "      <td>0.000000</td>\n",
       "      <td>2.666667</td>\n",
       "      <td>0.0</td>\n",
       "      <td>0.000000</td>\n",
       "      <td>3.000000</td>\n",
       "      <td>0.373000</td>\n",
       "      <td>10.000000</td>\n",
       "    </tr>\n",
       "    <tr>\n",
       "      <th>February</th>\n",
       "      <td>3.000000</td>\n",
       "      <td>0.0</td>\n",
       "      <td>0.0</td>\n",
       "      <td>2.395500</td>\n",
       "      <td>3.000000</td>\n",
       "      <td>0.000000</td>\n",
       "      <td>0.000000</td>\n",
       "      <td>0.0</td>\n",
       "      <td>1.791000</td>\n",
       "      <td>0.000000</td>\n",
       "      <td>0.406296</td>\n",
       "      <td>10.186500</td>\n",
       "    </tr>\n",
       "    <tr>\n",
       "      <th>March</th>\n",
       "      <td>0.000000</td>\n",
       "      <td>0.0</td>\n",
       "      <td>0.0</td>\n",
       "      <td>3.000000</td>\n",
       "      <td>0.000000</td>\n",
       "      <td>3.000000</td>\n",
       "      <td>1.393437</td>\n",
       "      <td>0.0</td>\n",
       "      <td>3.000000</td>\n",
       "      <td>0.000000</td>\n",
       "      <td>0.414557</td>\n",
       "      <td>10.393437</td>\n",
       "    </tr>\n",
       "    <tr>\n",
       "      <th>April</th>\n",
       "      <td>0.000000</td>\n",
       "      <td>0.0</td>\n",
       "      <td>0.0</td>\n",
       "      <td>3.000000</td>\n",
       "      <td>0.000000</td>\n",
       "      <td>3.000000</td>\n",
       "      <td>3.000000</td>\n",
       "      <td>0.0</td>\n",
       "      <td>1.608870</td>\n",
       "      <td>0.000000</td>\n",
       "      <td>0.414919</td>\n",
       "      <td>10.608870</td>\n",
       "    </tr>\n",
       "    <tr>\n",
       "      <th>May</th>\n",
       "      <td>1.828962</td>\n",
       "      <td>0.0</td>\n",
       "      <td>0.0</td>\n",
       "      <td>0.000000</td>\n",
       "      <td>0.000000</td>\n",
       "      <td>0.000000</td>\n",
       "      <td>3.000000</td>\n",
       "      <td>0.0</td>\n",
       "      <td>3.000000</td>\n",
       "      <td>3.000000</td>\n",
       "      <td>0.433014</td>\n",
       "      <td>10.828962</td>\n",
       "    </tr>\n",
       "    <tr>\n",
       "      <th>June</th>\n",
       "      <td>3.000000</td>\n",
       "      <td>0.0</td>\n",
       "      <td>0.0</td>\n",
       "      <td>0.000000</td>\n",
       "      <td>0.000000</td>\n",
       "      <td>0.000000</td>\n",
       "      <td>3.000000</td>\n",
       "      <td>0.0</td>\n",
       "      <td>2.063416</td>\n",
       "      <td>3.000000</td>\n",
       "      <td>0.456410</td>\n",
       "      <td>11.063416</td>\n",
       "    </tr>\n",
       "    <tr>\n",
       "      <th>July</th>\n",
       "      <td>1.157944</td>\n",
       "      <td>0.0</td>\n",
       "      <td>0.0</td>\n",
       "      <td>3.000000</td>\n",
       "      <td>1.157944</td>\n",
       "      <td>0.000000</td>\n",
       "      <td>3.000000</td>\n",
       "      <td>0.0</td>\n",
       "      <td>3.000000</td>\n",
       "      <td>0.000000</td>\n",
       "      <td>0.471320</td>\n",
       "      <td>11.315889</td>\n",
       "    </tr>\n",
       "    <tr>\n",
       "      <th>August</th>\n",
       "      <td>3.000000</td>\n",
       "      <td>0.0</td>\n",
       "      <td>0.0</td>\n",
       "      <td>1.860853</td>\n",
       "      <td>0.000000</td>\n",
       "      <td>0.721706</td>\n",
       "      <td>0.000000</td>\n",
       "      <td>0.0</td>\n",
       "      <td>3.000000</td>\n",
       "      <td>3.000000</td>\n",
       "      <td>0.491859</td>\n",
       "      <td>11.582559</td>\n",
       "    </tr>\n",
       "    <tr>\n",
       "      <th>September</th>\n",
       "      <td>1.433704</td>\n",
       "      <td>0.0</td>\n",
       "      <td>0.0</td>\n",
       "      <td>3.000000</td>\n",
       "      <td>0.000000</td>\n",
       "      <td>3.000000</td>\n",
       "      <td>0.000000</td>\n",
       "      <td>0.0</td>\n",
       "      <td>3.000000</td>\n",
       "      <td>1.433704</td>\n",
       "      <td>0.464528</td>\n",
       "      <td>11.867408</td>\n",
       "    </tr>\n",
       "    <tr>\n",
       "      <th>October</th>\n",
       "      <td>0.000000</td>\n",
       "      <td>0.0</td>\n",
       "      <td>0.0</td>\n",
       "      <td>3.000000</td>\n",
       "      <td>0.143045</td>\n",
       "      <td>3.000000</td>\n",
       "      <td>3.000000</td>\n",
       "      <td>0.0</td>\n",
       "      <td>0.000000</td>\n",
       "      <td>3.000000</td>\n",
       "      <td>0.433434</td>\n",
       "      <td>12.143045</td>\n",
       "    </tr>\n",
       "    <tr>\n",
       "      <th>November</th>\n",
       "      <td>3.000000</td>\n",
       "      <td>0.0</td>\n",
       "      <td>0.0</td>\n",
       "      <td>2.135402</td>\n",
       "      <td>0.000000</td>\n",
       "      <td>1.270804</td>\n",
       "      <td>3.000000</td>\n",
       "      <td>0.0</td>\n",
       "      <td>0.000000</td>\n",
       "      <td>3.000000</td>\n",
       "      <td>0.526300</td>\n",
       "      <td>12.406206</td>\n",
       "    </tr>\n",
       "    <tr>\n",
       "      <th>December</th>\n",
       "      <td>3.000000</td>\n",
       "      <td>3.0</td>\n",
       "      <td>0.0</td>\n",
       "      <td>0.732675</td>\n",
       "      <td>3.000000</td>\n",
       "      <td>0.000000</td>\n",
       "      <td>0.000000</td>\n",
       "      <td>0.0</td>\n",
       "      <td>0.000000</td>\n",
       "      <td>3.000000</td>\n",
       "      <td>0.528109</td>\n",
       "      <td>12.732675</td>\n",
       "    </tr>\n",
       "  </tbody>\n",
       "</table>\n",
       "</div>"
      ],
      "text/plain": [
       "              Print   TV  SEO   AdWords  Facebook  LinkedIn  Instagram  \\\n",
       "Month                                                                    \n",
       "January    3.000000  0.0  0.0  1.333333  0.000000  0.000000   2.666667   \n",
       "February   3.000000  0.0  0.0  2.395500  3.000000  0.000000   0.000000   \n",
       "March      0.000000  0.0  0.0  3.000000  0.000000  3.000000   1.393437   \n",
       "April      0.000000  0.0  0.0  3.000000  0.000000  3.000000   3.000000   \n",
       "May        1.828962  0.0  0.0  0.000000  0.000000  0.000000   3.000000   \n",
       "June       3.000000  0.0  0.0  0.000000  0.000000  0.000000   3.000000   \n",
       "July       1.157944  0.0  0.0  3.000000  1.157944  0.000000   3.000000   \n",
       "August     3.000000  0.0  0.0  1.860853  0.000000  0.721706   0.000000   \n",
       "September  1.433704  0.0  0.0  3.000000  0.000000  3.000000   0.000000   \n",
       "October    0.000000  0.0  0.0  3.000000  0.143045  3.000000   3.000000   \n",
       "November   3.000000  0.0  0.0  2.135402  0.000000  1.270804   3.000000   \n",
       "December   3.000000  3.0  0.0  0.732675  3.000000  0.000000   0.000000   \n",
       "\n",
       "           Snapchat   Twitter     Email  ROI (Million $)  Budget(Million $)  \n",
       "Month                                                                        \n",
       "January         0.0  0.000000  3.000000         0.373000          10.000000  \n",
       "February        0.0  1.791000  0.000000         0.406296          10.186500  \n",
       "March           0.0  3.000000  0.000000         0.414557          10.393437  \n",
       "April           0.0  1.608870  0.000000         0.414919          10.608870  \n",
       "May             0.0  3.000000  3.000000         0.433014          10.828962  \n",
       "June            0.0  2.063416  3.000000         0.456410          11.063416  \n",
       "July            0.0  3.000000  0.000000         0.471320          11.315889  \n",
       "August          0.0  3.000000  3.000000         0.491859          11.582559  \n",
       "September       0.0  3.000000  1.433704         0.464528          11.867408  \n",
       "October         0.0  0.000000  3.000000         0.433434          12.143045  \n",
       "November        0.0  0.000000  3.000000         0.526300          12.406206  \n",
       "December        0.0  0.000000  3.000000         0.528109          12.732675  "
      ]
     },
     "execution_count": 44,
     "metadata": {},
     "output_type": "execute_result"
    }
   ],
   "source": [
    "Allocation_Matrix=pd.concat([X_d, ROI_total_d,budget_d], axis=1)\n",
    "Allocation_Matrix"
   ]
  },
  {
   "cell_type": "code",
   "execution_count": 45,
   "id": "532f863b",
   "metadata": {},
   "outputs": [],
   "source": [
    "ROI_percent = Allocation_Matrix['ROI (Million $)']*100/Allocation_Matrix['Budget(Million $)']"
   ]
  },
  {
   "cell_type": "code",
   "execution_count": 46,
   "id": "b7ada455",
   "metadata": {},
   "outputs": [
    {
     "data": {
      "image/png": "[encoded data removed]",
      "text/plain": [
       "<Figure size 720x432 with 1 Axes>"
      ]
     },
     "metadata": {
      "needs_background": "light"
     },
     "output_type": "display_data"
    }
   ],
   "source": [
    "ax = ROI_percent.plot(figsize=(10, 6), color='orange')\n",
    "ax.set_ylabel('ROI Percent', fontsize=12)\n",
    "ax.set_xlabel('Months', fontsize=12)\n",
    "plt.show()"
   ]
  },
  {
   "cell_type": "markdown",
   "id": "4eff6a7f",
   "metadata": {},
   "source": [
    "## Q8"
   ]
  },
  {
   "cell_type": "markdown",
   "id": "77eb3723",
   "metadata": {},
   "source": [
    "A stable budget is defined as a monthly allocation such that for each platform the monthly\n",
    "change in spend is no more than $1M. Is the allocation you found stable? If it isn’t, you do not\n",
    "need to solve a new optimization model. Describe how my might model this?"
   ]
  },
  {
   "cell_type": "markdown",
   "id": "feeb30b5",
   "metadata": {},
   "source": []
  },
  {
   "cell_type": "code",
   "execution_count": 47,
   "id": "7ab7ea2d",
   "metadata": {},
   "outputs": [
    {
     "data": {
      "text/html": [
       "<div>\n",
       "<style scoped>\n",
       "    .dataframe tbody tr th:only-of-type {\n",
       "        vertical-align: middle;\n",
       "    }\n",
       "\n",
       "    .dataframe tbody tr th {\n",
       "        vertical-align: top;\n",
       "    }\n",
       "\n",
       "    .dataframe thead th {\n",
       "        text-align: right;\n",
       "    }\n",
       "</style>\n",
       "<table border=\"1\" class=\"dataframe\">\n",
       "  <thead>\n",
       "    <tr style=\"text-align: right;\">\n",
       "      <th></th>\n",
       "      <th>Print</th>\n",
       "      <th>TV</th>\n",
       "      <th>SEO</th>\n",
       "      <th>AdWords</th>\n",
       "      <th>Facebook</th>\n",
       "      <th>LinkedIn</th>\n",
       "      <th>Instagram</th>\n",
       "      <th>Snapchat</th>\n",
       "      <th>Twitter</th>\n",
       "      <th>Email</th>\n",
       "    </tr>\n",
       "    <tr>\n",
       "      <th>Month</th>\n",
       "      <th></th>\n",
       "      <th></th>\n",
       "      <th></th>\n",
       "      <th></th>\n",
       "      <th></th>\n",
       "      <th></th>\n",
       "      <th></th>\n",
       "      <th></th>\n",
       "      <th></th>\n",
       "      <th></th>\n",
       "    </tr>\n",
       "  </thead>\n",
       "  <tbody>\n",
       "    <tr>\n",
       "      <th>January</th>\n",
       "      <td>NaN</td>\n",
       "      <td>NaN</td>\n",
       "      <td>NaN</td>\n",
       "      <td>NaN</td>\n",
       "      <td>NaN</td>\n",
       "      <td>NaN</td>\n",
       "      <td>NaN</td>\n",
       "      <td>NaN</td>\n",
       "      <td>NaN</td>\n",
       "      <td>NaN</td>\n",
       "    </tr>\n",
       "    <tr>\n",
       "      <th>February</th>\n",
       "      <td>0.000000</td>\n",
       "      <td>0.0</td>\n",
       "      <td>0.0</td>\n",
       "      <td>1.062167</td>\n",
       "      <td>3.000000</td>\n",
       "      <td>0.000000</td>\n",
       "      <td>-2.666667</td>\n",
       "      <td>0.0</td>\n",
       "      <td>1.791000</td>\n",
       "      <td>-3.000000</td>\n",
       "    </tr>\n",
       "    <tr>\n",
       "      <th>March</th>\n",
       "      <td>-3.000000</td>\n",
       "      <td>0.0</td>\n",
       "      <td>0.0</td>\n",
       "      <td>0.604500</td>\n",
       "      <td>-3.000000</td>\n",
       "      <td>3.000000</td>\n",
       "      <td>1.393437</td>\n",
       "      <td>0.0</td>\n",
       "      <td>1.209000</td>\n",
       "      <td>0.000000</td>\n",
       "    </tr>\n",
       "    <tr>\n",
       "      <th>April</th>\n",
       "      <td>0.000000</td>\n",
       "      <td>0.0</td>\n",
       "      <td>0.0</td>\n",
       "      <td>0.000000</td>\n",
       "      <td>0.000000</td>\n",
       "      <td>0.000000</td>\n",
       "      <td>1.606563</td>\n",
       "      <td>0.0</td>\n",
       "      <td>-1.391130</td>\n",
       "      <td>0.000000</td>\n",
       "    </tr>\n",
       "    <tr>\n",
       "      <th>May</th>\n",
       "      <td>1.828962</td>\n",
       "      <td>0.0</td>\n",
       "      <td>0.0</td>\n",
       "      <td>-3.000000</td>\n",
       "      <td>0.000000</td>\n",
       "      <td>-3.000000</td>\n",
       "      <td>0.000000</td>\n",
       "      <td>0.0</td>\n",
       "      <td>1.391130</td>\n",
       "      <td>3.000000</td>\n",
       "    </tr>\n",
       "    <tr>\n",
       "      <th>June</th>\n",
       "      <td>1.171038</td>\n",
       "      <td>0.0</td>\n",
       "      <td>0.0</td>\n",
       "      <td>0.000000</td>\n",
       "      <td>0.000000</td>\n",
       "      <td>0.000000</td>\n",
       "      <td>0.000000</td>\n",
       "      <td>0.0</td>\n",
       "      <td>-0.936584</td>\n",
       "      <td>0.000000</td>\n",
       "    </tr>\n",
       "    <tr>\n",
       "      <th>July</th>\n",
       "      <td>-1.842056</td>\n",
       "      <td>0.0</td>\n",
       "      <td>0.0</td>\n",
       "      <td>3.000000</td>\n",
       "      <td>1.157944</td>\n",
       "      <td>0.000000</td>\n",
       "      <td>0.000000</td>\n",
       "      <td>0.0</td>\n",
       "      <td>0.936584</td>\n",
       "      <td>-3.000000</td>\n",
       "    </tr>\n",
       "    <tr>\n",
       "      <th>August</th>\n",
       "      <td>1.842056</td>\n",
       "      <td>0.0</td>\n",
       "      <td>0.0</td>\n",
       "      <td>-1.139147</td>\n",
       "      <td>-1.157944</td>\n",
       "      <td>0.721706</td>\n",
       "      <td>-3.000000</td>\n",
       "      <td>0.0</td>\n",
       "      <td>0.000000</td>\n",
       "      <td>3.000000</td>\n",
       "    </tr>\n",
       "    <tr>\n",
       "      <th>September</th>\n",
       "      <td>-1.566296</td>\n",
       "      <td>0.0</td>\n",
       "      <td>0.0</td>\n",
       "      <td>1.139147</td>\n",
       "      <td>0.000000</td>\n",
       "      <td>2.278294</td>\n",
       "      <td>0.000000</td>\n",
       "      <td>0.0</td>\n",
       "      <td>0.000000</td>\n",
       "      <td>-1.566296</td>\n",
       "    </tr>\n",
       "    <tr>\n",
       "      <th>October</th>\n",
       "      <td>-1.433704</td>\n",
       "      <td>0.0</td>\n",
       "      <td>0.0</td>\n",
       "      <td>0.000000</td>\n",
       "      <td>0.143045</td>\n",
       "      <td>0.000000</td>\n",
       "      <td>3.000000</td>\n",
       "      <td>0.0</td>\n",
       "      <td>-3.000000</td>\n",
       "      <td>1.566296</td>\n",
       "    </tr>\n",
       "    <tr>\n",
       "      <th>November</th>\n",
       "      <td>3.000000</td>\n",
       "      <td>0.0</td>\n",
       "      <td>0.0</td>\n",
       "      <td>-0.864598</td>\n",
       "      <td>-0.143045</td>\n",
       "      <td>-1.729196</td>\n",
       "      <td>0.000000</td>\n",
       "      <td>0.0</td>\n",
       "      <td>0.000000</td>\n",
       "      <td>0.000000</td>\n",
       "    </tr>\n",
       "    <tr>\n",
       "      <th>December</th>\n",
       "      <td>0.000000</td>\n",
       "      <td>3.0</td>\n",
       "      <td>0.0</td>\n",
       "      <td>-1.402727</td>\n",
       "      <td>3.000000</td>\n",
       "      <td>-1.270804</td>\n",
       "      <td>-3.000000</td>\n",
       "      <td>0.0</td>\n",
       "      <td>0.000000</td>\n",
       "      <td>0.000000</td>\n",
       "    </tr>\n",
       "  </tbody>\n",
       "</table>\n",
       "</div>"
      ],
      "text/plain": [
       "              Print   TV  SEO   AdWords  Facebook  LinkedIn  Instagram  \\\n",
       "Month                                                                    \n",
       "January         NaN  NaN  NaN       NaN       NaN       NaN        NaN   \n",
       "February   0.000000  0.0  0.0  1.062167  3.000000  0.000000  -2.666667   \n",
       "March     -3.000000  0.0  0.0  0.604500 -3.000000  3.000000   1.393437   \n",
       "April      0.000000  0.0  0.0  0.000000  0.000000  0.000000   1.606563   \n",
       "May        1.828962  0.0  0.0 -3.000000  0.000000 -3.000000   0.000000   \n",
       "June       1.171038  0.0  0.0  0.000000  0.000000  0.000000   0.000000   \n",
       "July      -1.842056  0.0  0.0  3.000000  1.157944  0.000000   0.000000   \n",
       "August     1.842056  0.0  0.0 -1.139147 -1.157944  0.721706  -3.000000   \n",
       "September -1.566296  0.0  0.0  1.139147  0.000000  2.278294   0.000000   \n",
       "October   -1.433704  0.0  0.0  0.000000  0.143045  0.000000   3.000000   \n",
       "November   3.000000  0.0  0.0 -0.864598 -0.143045 -1.729196   0.000000   \n",
       "December   0.000000  3.0  0.0 -1.402727  3.000000 -1.270804  -3.000000   \n",
       "\n",
       "           Snapchat   Twitter     Email  \n",
       "Month                                    \n",
       "January         NaN       NaN       NaN  \n",
       "February        0.0  1.791000 -3.000000  \n",
       "March           0.0  1.209000  0.000000  \n",
       "April           0.0 -1.391130  0.000000  \n",
       "May             0.0  1.391130  3.000000  \n",
       "June            0.0 -0.936584  0.000000  \n",
       "July            0.0  0.936584 -3.000000  \n",
       "August          0.0  0.000000  3.000000  \n",
       "September       0.0  0.000000 -1.566296  \n",
       "October         0.0 -3.000000  1.566296  \n",
       "November        0.0  0.000000  0.000000  \n",
       "December        0.0  0.000000  0.000000  "
      ]
     },
     "execution_count": 47,
     "metadata": {},
     "output_type": "execute_result"
    }
   ],
   "source": [
    "X_d.diff() #We check the difference using diff function "
   ]
  },
  {
   "cell_type": "markdown",
   "id": "b512ba41",
   "metadata": {},
   "source": [
    "We observe that it isn't a stable budget as the monthly allocation changes by way more than 1 Million USD for each platform. To make it stable, we will take the array of optimal solution for each month. In this case X[i,:] stores each Model.X values. While running the modelling for February we specify the lower bounds and upper bounds as the optimal solution for January &pm; 1. This would give us a stable allocation model such that monthly change isn't more than $1M\n",
    "\n",
    "So,for February \n",
    "    lb = X[0,:]-1\n",
    "    ub = X[0,:]+1\n",
    "\n",
    "Note: X[0, :] would contain the optimal allocation for January \\\n",
    "lb refers to Lower Bounds which are added while initializing the number of decision variables in model \n",
    "ub refers to Upper Bounds of the decision variables which were set to a constant 3 in the above questions"
   ]
  },
  {
   "cell_type": "code",
   "execution_count": null,
   "id": "4058c513",
   "metadata": {},
   "outputs": [],
   "source": []
  },
  {
   "cell_type": "code",
   "execution_count": null,
   "id": "2f6d12e8",
   "metadata": {},
   "outputs": [],
   "source": []
  }
 ],
 "metadata": {
  "kernelspec": {
   "display_name": "Python 3 (ipykernel)",
   "language": "python",
   "name": "python3"
  },
  "language_info": {
   "codemirror_mode": {
    "name": "ipython",
    "version": 3
   },
   "file_extension": ".py",
   "mimetype": "text/x-python",
   "name": "python",
   "nbconvert_exporter": "python",
   "pygments_lexer": "ipython3",
   "version": "3.9.12"
  }
 },
 "nbformat": 4,
 "nbformat_minor": 5
}
